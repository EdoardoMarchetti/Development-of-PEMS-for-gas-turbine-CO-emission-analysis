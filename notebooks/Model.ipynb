{
 "cells": [
  {
   "cell_type": "markdown",
   "id": "d02287d6-7f55-44e5-9b19-c4ba455b02c4",
   "metadata": {},
   "source": [
    "# Configuration"
   ]
  },
  {
   "cell_type": "code",
   "execution_count": 19,
   "id": "28e45c60-beba-4259-b039-9bb36e30cb49",
   "metadata": {},
   "outputs": [],
   "source": [
    "import pandas as pd\n",
    "import numpy as np\n",
    "import matplotlib.pyplot as plt\n",
    "\n",
    "%matplotlib inline\n",
    "\n",
    "\n",
    "from sklearn.model_selection import train_test_split\n",
    "from sklearn.metrics import mean_squared_error as mse, precision_recall_fscore_support, accuracy_score, confusion_matrix\n",
    "\n",
    "from sklearn.svm import SVC\n",
    "from sklearn.neural_network import MLPClassifier\n",
    "from sklearn.ensemble import RandomForestClassifier, RandomForestRegressor\n",
    "from sklearn.linear_model import LogisticRegression\n",
    "\n",
    "from sklearn.preprocessing import PolynomialFeatures"
   ]
  },
  {
   "cell_type": "markdown",
   "id": "fe4a652f-ff7f-405e-b995-4a6082bea7d8",
   "metadata": {},
   "source": [
    "# Importing dataset "
   ]
  },
  {
   "cell_type": "code",
   "execution_count": 3,
   "id": "bf50cc34-2ab2-4adc-bf38-0ff246d48a79",
   "metadata": {},
   "outputs": [
    {
     "data": {
      "text/plain": [
       "(36733, 39)"
      ]
     },
     "execution_count": 3,
     "metadata": {},
     "output_type": "execute_result"
    }
   ],
   "source": [
    "std_df = pd.read_csv('processed_dataset/std_dataset.csv', index_col = 0)\n",
    "std_df.shape"
   ]
  },
  {
   "cell_type": "code",
   "execution_count": 4,
   "id": "2cfdff04-e1d3-49bf-9912-2e40a1a1285f",
   "metadata": {},
   "outputs": [
    {
     "data": {
      "text/plain": [
       "(24488, 39)"
      ]
     },
     "execution_count": 4,
     "metadata": {},
     "output_type": "execute_result"
    }
   ],
   "source": [
    "dev_df = std_df.loc[:24487,:]\n",
    "dev_df.shape"
   ]
  },
  {
   "cell_type": "code",
   "execution_count": 5,
   "id": "a3c44500-a30d-438e-9381-42ab1bdeed47",
   "metadata": {},
   "outputs": [
    {
     "data": {
      "text/plain": [
       "(12245, 39)"
      ]
     },
     "execution_count": 5,
     "metadata": {},
     "output_type": "execute_result"
    }
   ],
   "source": [
    "eval_df = std_df.loc[24488:, :]\n",
    "eval_df.shape"
   ]
  },
  {
   "cell_type": "code",
   "execution_count": 6,
   "id": "d967fc56-6f06-44a2-8421-da684c6862e2",
   "metadata": {},
   "outputs": [],
   "source": [
    "ambiental_pred = ['AT', 'AP', 'AH']\n",
    "process_pred = ['AFDP', 'GTEP', 'TIT', 'TAT', 'TEY', 'CDP']\n",
    "location_pred = ['Austria', 'Belgium', 'Bulgaria', 'Croatia',\n",
    "       'Czech Republic', 'Denmark', 'Estonia', 'Finland', 'France', 'Germany',\n",
    "       'Greece', 'Hungary', 'Ireland', 'Italy', 'Latvia', 'Lithuania',\n",
    "       'Luxembourg', 'Malta', 'Netherlands', 'Poland', 'Portugal',\n",
    "       'Republic of Cyprus', 'Romania', 'Slovakia', 'Slovenia', 'Spain',\n",
    "       'Sweden']\n",
    "nox = ['NOX']\n",
    "year = ['YEAR']"
   ]
  },
  {
   "cell_type": "code",
   "execution_count": 7,
   "id": "89deaf1f-eb53-4a7f-8d43-e315f8fe66c9",
   "metadata": {},
   "outputs": [],
   "source": [
    "features_lists = [\n",
    "    'all',\n",
    "    ambiental_pred,\n",
    "    process_pred,\n",
    "    ambiental_pred+nox,\n",
    "    ambiental_pred+year,\n",
    "    ambiental_pred+nox+year,\n",
    "    process_pred+nox,\n",
    "    process_pred+year,\n",
    "    process_pred+nox+year,\n",
    "    ambiental_pred+process_pred,\n",
    "    ambiental_pred+process_pred+nox,\n",
    "    ambiental_pred+process_pred+year,\n",
    "    ambiental_pred+process_pred+nox+year,\n",
    "]"
   ]
  },
  {
   "cell_type": "markdown",
   "id": "5ff29167-521c-4e50-9ff5-a04b2ce059c1",
   "metadata": {},
   "source": [
    "# Model building "
   ]
  },
  {
   "cell_type": "code",
   "execution_count": null,
   "id": "adc0fe15-4466-46e1-9785-1367c046c61c",
   "metadata": {},
   "outputs": [],
   "source": [
    "class Model():\n",
    "    \n",
    "    def __init__(self, model_classifier, standard_regressor, extreme_regressor):\n",
    "        \n",
    "        self.classifier = model_classifier\n",
    "        self.std_regr = standard_regressor\n",
    "        self.ext_regr = extreme_regressor\n",
    "        self.std_columns = 'all'\n",
    "        self.ext_columns = 'all'\n",
    "        \n",
    "        \n",
    "    def fit(self, X, co_values, binary_labels, std_columns = 'all', ext_columns = 'all'):\n",
    "        \n",
    "        print('Fitting the classifier.....')\n",
    "        self.classifier.fit(X,binary_labels)\n",
    "        print('Classifier fitted')\n",
    "        \n",
    "        mask = binary_labels.values == 0\n",
    "        \n",
    "        if std_columns == 'all':\n",
    "            std_X, std_co_values = X.loc[mask,:], co_values.loc[mask]\n",
    "        else:\n",
    "            self.std_columns = std_columns\n",
    "            std_X, std_co_values = X.loc[mask,std_columns], co_values.loc[mask]\n",
    "            \n",
    "            \n",
    "        if ext_columns == 'all':\n",
    "            ext_X, ext_co_values = X.loc[~mask,:], co_values.loc[~mask]\n",
    "        else:\n",
    "            ext_X, ext_co_values = X.loc[~mask,ext_columns], co_values.loc[~mask]\n",
    "            self.ext_columns = ext_columns\n",
    "        \n",
    "        print(std_X.shape, ext_X.shape)\n",
    "        \n",
    "        print('Fitting the standard regressor...')\n",
    "        self.std_regr.fit(std_X, std_co_values)\n",
    "        print('Standard Regressor fitted')\n",
    "        print('Fitting the extreme regressor...')\n",
    "        self.ext_regr.fit(ext_X, ext_co_values)\n",
    "        print('Extrem Regressor fitted')\n",
    "        \n",
    "        return True\n",
    "    \n",
    "    def predict(self,X):\n",
    "        \n",
    "        pred_labels = self.classifier.predict(X)\n",
    "        \n",
    "        mask = pred_labels == 0\n",
    "        \n",
    "        if self.std_columns == 'all':\n",
    "            std_X = X.loc[mask,:]\n",
    "        else:\n",
    "            std_X = X.loc[mask,self.std_columns]\n",
    "          \n",
    "        if self.ext_columns == 'all':\n",
    "            ext_X = X.loc[~mask,:]\n",
    "        else:\n",
    "            ext_X = X.loc[~mask,self.ext_columns]\n",
    "        \n",
    "        \n",
    "        print(type(self.std_columns))\n",
    "        std_pred = self.std_regr.predict(std_X)\n",
    "        ext_pred = self.ext_regr.predict(ext_X)\n",
    "        \n",
    "        y_pred = np.zeros(shape = pred_labels.shape)\n",
    "        y_pred[mask] = std_pred\n",
    "        y_pred[~mask] = ext_pred\n",
    "        \n",
    "        return y_pred, pred_labels\n",
    "    \n",
    "    def predict_weighted(self, X):\n",
    "        \n",
    "        posterior_probs = self.classifier.predict_proba(X)\n",
    "        \n",
    "        std_regressions = self.std_regr.predict(X)\n",
    "        ext_regressions = self.ext_regr.predict(X)\n",
    "        \n",
    "        regressions = np.concatenate((std_regressions.reshape(-1,1), ext_regressions.reshape(-1,1)), axis = 1)\n",
    "        \n",
    "        y = (posterior_probs*regressions).sum(axis = 1)\n",
    "        \n",
    "        return y\n",
    "        "
   ]
  },
  {
   "cell_type": "markdown",
   "id": "2242f801-ceba-4790-a5f3-37ab1fafb861",
   "metadata": {},
   "source": [
    "### Dataset preparation"
   ]
  },
  {
   "cell_type": "code",
   "execution_count": 69,
   "id": "abc85ba2-1d70-42fd-b3d6-e9106b62177e",
   "metadata": {},
   "outputs": [
    {
     "name": "stderr",
     "output_type": "stream",
     "text": [
      "/tmp/ipykernel_4336/3230006167.py:1: SettingWithCopyWarning: \n",
      "A value is trying to be set on a copy of a slice from a DataFrame.\n",
      "Try using .loc[row_indexer,col_indexer] = value instead\n",
      "\n",
      "See the caveats in the documentation: https://pandas.pydata.org/pandas-docs/stable/user_guide/indexing.html#returning-a-view-versus-a-copy\n",
      "  dev_df['labels'] = dev_df['CO'].apply(lambda x : 0 if x < 4.5 else 1)\n"
     ]
    },
    {
     "data": {
      "text/html": [
       "<div>\n",
       "<style scoped>\n",
       "    .dataframe tbody tr th:only-of-type {\n",
       "        vertical-align: middle;\n",
       "    }\n",
       "\n",
       "    .dataframe tbody tr th {\n",
       "        vertical-align: top;\n",
       "    }\n",
       "\n",
       "    .dataframe thead th {\n",
       "        text-align: right;\n",
       "    }\n",
       "</style>\n",
       "<table border=\"1\" class=\"dataframe\">\n",
       "  <thead>\n",
       "    <tr style=\"text-align: right;\">\n",
       "      <th></th>\n",
       "      <th>CO</th>\n",
       "      <th>labels</th>\n",
       "    </tr>\n",
       "    <tr>\n",
       "      <th>ID</th>\n",
       "      <th></th>\n",
       "      <th></th>\n",
       "    </tr>\n",
       "  </thead>\n",
       "  <tbody>\n",
       "    <tr>\n",
       "      <th>0</th>\n",
       "      <td>1.07640</td>\n",
       "      <td>0</td>\n",
       "    </tr>\n",
       "    <tr>\n",
       "      <th>1</th>\n",
       "      <td>10.19600</td>\n",
       "      <td>1</td>\n",
       "    </tr>\n",
       "    <tr>\n",
       "      <th>2</th>\n",
       "      <td>0.78407</td>\n",
       "      <td>0</td>\n",
       "    </tr>\n",
       "    <tr>\n",
       "      <th>3</th>\n",
       "      <td>1.61530</td>\n",
       "      <td>0</td>\n",
       "    </tr>\n",
       "    <tr>\n",
       "      <th>4</th>\n",
       "      <td>1.40710</td>\n",
       "      <td>0</td>\n",
       "    </tr>\n",
       "    <tr>\n",
       "      <th>...</th>\n",
       "      <td>...</td>\n",
       "      <td>...</td>\n",
       "    </tr>\n",
       "    <tr>\n",
       "      <th>24483</th>\n",
       "      <td>1.60010</td>\n",
       "      <td>0</td>\n",
       "    </tr>\n",
       "    <tr>\n",
       "      <th>24484</th>\n",
       "      <td>2.21050</td>\n",
       "      <td>0</td>\n",
       "    </tr>\n",
       "    <tr>\n",
       "      <th>24485</th>\n",
       "      <td>2.00960</td>\n",
       "      <td>0</td>\n",
       "    </tr>\n",
       "    <tr>\n",
       "      <th>24486</th>\n",
       "      <td>5.06680</td>\n",
       "      <td>1</td>\n",
       "    </tr>\n",
       "    <tr>\n",
       "      <th>24487</th>\n",
       "      <td>1.89830</td>\n",
       "      <td>0</td>\n",
       "    </tr>\n",
       "  </tbody>\n",
       "</table>\n",
       "<p>24488 rows × 2 columns</p>\n",
       "</div>"
      ],
      "text/plain": [
       "             CO  labels\n",
       "ID                     \n",
       "0       1.07640       0\n",
       "1      10.19600       1\n",
       "2       0.78407       0\n",
       "3       1.61530       0\n",
       "4       1.40710       0\n",
       "...         ...     ...\n",
       "24483   1.60010       0\n",
       "24484   2.21050       0\n",
       "24485   2.00960       0\n",
       "24486   5.06680       1\n",
       "24487   1.89830       0\n",
       "\n",
       "[24488 rows x 2 columns]"
      ]
     },
     "execution_count": 69,
     "metadata": {},
     "output_type": "execute_result"
    }
   ],
   "source": [
    "dev_df['labels'] = dev_df['CO'].apply(lambda x : 0 if x < 4.5 else 1)\n",
    "dev_df[['CO','labels']]"
   ]
  },
  {
   "cell_type": "code",
   "execution_count": 70,
   "id": "28d4ff28-0877-4c9c-9ade-7052efce42b1",
   "metadata": {},
   "outputs": [
    {
     "data": {
      "text/plain": [
       "21652"
      ]
     },
     "execution_count": 70,
     "metadata": {},
     "output_type": "execute_result"
    }
   ],
   "source": [
    "dev_df['CO'].loc[dev_df['CO'] < 4.5,].count()"
   ]
  },
  {
   "cell_type": "code",
   "execution_count": 71,
   "id": "7d84d671-92fd-4d3d-abb2-834db28dc38d",
   "metadata": {},
   "outputs": [
    {
     "data": {
      "text/plain": [
       "0    21652\n",
       "1     2836\n",
       "Name: labels, dtype: int64"
      ]
     },
     "execution_count": 71,
     "metadata": {},
     "output_type": "execute_result"
    }
   ],
   "source": [
    "dev_df['labels'].value_counts()"
   ]
  },
  {
   "cell_type": "code",
   "execution_count": 130,
   "id": "d29467dc-f0fc-40d7-aa72-6f8c8919ddd3",
   "metadata": {},
   "outputs": [
    {
     "data": {
      "text/html": [
       "<div>\n",
       "<style scoped>\n",
       "    .dataframe tbody tr th:only-of-type {\n",
       "        vertical-align: middle;\n",
       "    }\n",
       "\n",
       "    .dataframe tbody tr th {\n",
       "        vertical-align: top;\n",
       "    }\n",
       "\n",
       "    .dataframe thead th {\n",
       "        text-align: right;\n",
       "    }\n",
       "</style>\n",
       "<table border=\"1\" class=\"dataframe\">\n",
       "  <thead>\n",
       "    <tr style=\"text-align: right;\">\n",
       "      <th></th>\n",
       "      <th>1</th>\n",
       "      <th>AT</th>\n",
       "      <th>AP</th>\n",
       "      <th>AH</th>\n",
       "      <th>AFDP</th>\n",
       "      <th>GTEP</th>\n",
       "      <th>TIT</th>\n",
       "      <th>TAT</th>\n",
       "      <th>NOX</th>\n",
       "      <th>YEAR</th>\n",
       "      <th>...</th>\n",
       "      <th>TAT^3</th>\n",
       "      <th>TAT^2 NOX</th>\n",
       "      <th>TAT^2 YEAR</th>\n",
       "      <th>TAT NOX^2</th>\n",
       "      <th>TAT NOX YEAR</th>\n",
       "      <th>TAT YEAR^2</th>\n",
       "      <th>NOX^3</th>\n",
       "      <th>NOX^2 YEAR</th>\n",
       "      <th>NOX YEAR^2</th>\n",
       "      <th>YEAR^3</th>\n",
       "    </tr>\n",
       "  </thead>\n",
       "  <tbody>\n",
       "    <tr>\n",
       "      <th>5507</th>\n",
       "      <td>1.0</td>\n",
       "      <td>-1.139790</td>\n",
       "      <td>0.086488</td>\n",
       "      <td>1.411285</td>\n",
       "      <td>1.772403</td>\n",
       "      <td>-0.386988</td>\n",
       "      <td>0.177419</td>\n",
       "      <td>0.541670</td>\n",
       "      <td>1.019515</td>\n",
       "      <td>5.0</td>\n",
       "      <td>...</td>\n",
       "      <td>0.158929</td>\n",
       "      <td>0.299132</td>\n",
       "      <td>1.467030</td>\n",
       "      <td>0.563017</td>\n",
       "      <td>2.761202</td>\n",
       "      <td>13.541743</td>\n",
       "      <td>1.059695</td>\n",
       "      <td>5.197054</td>\n",
       "      <td>25.487874</td>\n",
       "      <td>125.0</td>\n",
       "    </tr>\n",
       "    <tr>\n",
       "      <th>9251</th>\n",
       "      <td>1.0</td>\n",
       "      <td>-1.157682</td>\n",
       "      <td>1.075364</td>\n",
       "      <td>0.501192</td>\n",
       "      <td>-1.095430</td>\n",
       "      <td>-0.428049</td>\n",
       "      <td>0.137443</td>\n",
       "      <td>0.516776</td>\n",
       "      <td>1.822497</td>\n",
       "      <td>3.0</td>\n",
       "      <td>...</td>\n",
       "      <td>0.138009</td>\n",
       "      <td>0.486712</td>\n",
       "      <td>0.801174</td>\n",
       "      <td>1.716471</td>\n",
       "      <td>2.825471</td>\n",
       "      <td>4.650988</td>\n",
       "      <td>6.053418</td>\n",
       "      <td>9.964489</td>\n",
       "      <td>16.402476</td>\n",
       "      <td>27.0</td>\n",
       "    </tr>\n",
       "    <tr>\n",
       "      <th>11795</th>\n",
       "      <td>1.0</td>\n",
       "      <td>1.014986</td>\n",
       "      <td>0.380061</td>\n",
       "      <td>-0.666055</td>\n",
       "      <td>0.605685</td>\n",
       "      <td>1.167599</td>\n",
       "      <td>1.062590</td>\n",
       "      <td>-1.238932</td>\n",
       "      <td>-0.417629</td>\n",
       "      <td>5.0</td>\n",
       "      <td>...</td>\n",
       "      <td>-1.901704</td>\n",
       "      <td>-0.641041</td>\n",
       "      <td>7.674768</td>\n",
       "      <td>-0.216087</td>\n",
       "      <td>2.587069</td>\n",
       "      <td>-30.973310</td>\n",
       "      <td>-0.072840</td>\n",
       "      <td>0.872069</td>\n",
       "      <td>-10.440720</td>\n",
       "      <td>125.0</td>\n",
       "    </tr>\n",
       "    <tr>\n",
       "      <th>6770</th>\n",
       "      <td>1.0</td>\n",
       "      <td>-0.724144</td>\n",
       "      <td>-0.825132</td>\n",
       "      <td>0.056196</td>\n",
       "      <td>-0.743982</td>\n",
       "      <td>-0.147306</td>\n",
       "      <td>-0.045302</td>\n",
       "      <td>0.540205</td>\n",
       "      <td>-0.184487</td>\n",
       "      <td>1.0</td>\n",
       "      <td>...</td>\n",
       "      <td>0.157644</td>\n",
       "      <td>-0.053837</td>\n",
       "      <td>0.291822</td>\n",
       "      <td>0.018386</td>\n",
       "      <td>-0.099661</td>\n",
       "      <td>0.540205</td>\n",
       "      <td>-0.006279</td>\n",
       "      <td>0.034036</td>\n",
       "      <td>-0.184487</td>\n",
       "      <td>1.0</td>\n",
       "    </tr>\n",
       "    <tr>\n",
       "      <th>13372</th>\n",
       "      <td>1.0</td>\n",
       "      <td>1.396374</td>\n",
       "      <td>-0.068024</td>\n",
       "      <td>-0.855617</td>\n",
       "      <td>0.140056</td>\n",
       "      <td>-0.046086</td>\n",
       "      <td>-0.056724</td>\n",
       "      <td>0.563634</td>\n",
       "      <td>-1.684864</td>\n",
       "      <td>2.0</td>\n",
       "      <td>...</td>\n",
       "      <td>0.179057</td>\n",
       "      <td>-0.535254</td>\n",
       "      <td>0.635367</td>\n",
       "      <td>1.600027</td>\n",
       "      <td>-1.899295</td>\n",
       "      <td>2.254538</td>\n",
       "      <td>-4.782937</td>\n",
       "      <td>5.677535</td>\n",
       "      <td>-6.739457</td>\n",
       "      <td>8.0</td>\n",
       "    </tr>\n",
       "  </tbody>\n",
       "</table>\n",
       "<p>5 rows × 220 columns</p>\n",
       "</div>"
      ],
      "text/plain": [
       "         1        AT        AP        AH      AFDP      GTEP       TIT  \\\n",
       "5507   1.0 -1.139790  0.086488  1.411285  1.772403 -0.386988  0.177419   \n",
       "9251   1.0 -1.157682  1.075364  0.501192 -1.095430 -0.428049  0.137443   \n",
       "11795  1.0  1.014986  0.380061 -0.666055  0.605685  1.167599  1.062590   \n",
       "6770   1.0 -0.724144 -0.825132  0.056196 -0.743982 -0.147306 -0.045302   \n",
       "13372  1.0  1.396374 -0.068024 -0.855617  0.140056 -0.046086 -0.056724   \n",
       "\n",
       "            TAT       NOX  YEAR  ...     TAT^3  TAT^2 NOX  TAT^2 YEAR  \\\n",
       "5507   0.541670  1.019515   5.0  ...  0.158929   0.299132    1.467030   \n",
       "9251   0.516776  1.822497   3.0  ...  0.138009   0.486712    0.801174   \n",
       "11795 -1.238932 -0.417629   5.0  ... -1.901704  -0.641041    7.674768   \n",
       "6770   0.540205 -0.184487   1.0  ...  0.157644  -0.053837    0.291822   \n",
       "13372  0.563634 -1.684864   2.0  ...  0.179057  -0.535254    0.635367   \n",
       "\n",
       "       TAT NOX^2  TAT NOX YEAR  TAT YEAR^2     NOX^3  NOX^2 YEAR  NOX YEAR^2  \\\n",
       "5507    0.563017      2.761202   13.541743  1.059695    5.197054   25.487874   \n",
       "9251    1.716471      2.825471    4.650988  6.053418    9.964489   16.402476   \n",
       "11795  -0.216087      2.587069  -30.973310 -0.072840    0.872069  -10.440720   \n",
       "6770    0.018386     -0.099661    0.540205 -0.006279    0.034036   -0.184487   \n",
       "13372   1.600027     -1.899295    2.254538 -4.782937    5.677535   -6.739457   \n",
       "\n",
       "       YEAR^3  \n",
       "5507    125.0  \n",
       "9251     27.0  \n",
       "11795   125.0  \n",
       "6770      1.0  \n",
       "13372     8.0  \n",
       "\n",
       "[5 rows x 220 columns]"
      ]
     },
     "execution_count": 130,
     "metadata": {},
     "output_type": "execute_result"
    }
   ],
   "source": [
    "X = dev_df[ambiental_pred+process_pred+nox+year]\n",
    "co_values = dev_df['CO']\n",
    "labels = dev_df['labels']\n",
    "\n",
    "\n",
    "\n",
    "poly = PolynomialFeatures(degree = 3)\n",
    "X = poly.fit_transform(X.drop(columns= ['TEY', 'CDP']))\n",
    "X = pd.DataFrame(X, columns = poly.get_feature_names_out())\n",
    "\n",
    "\n",
    "X_train, X_test, y_train, y_test = train_test_split(X, pd.DataFrame({'CO': co_values, 'labels':labels}),\n",
    "                                                    random_state=42, test_size=0.25,\n",
    "                                                    stratify=dev_df['labels'])\n",
    "\n",
    "X_train.shape, X_test.shape, y_train.shape, y_test.shape\n",
    "\n",
    "X_train.head()"
   ]
  },
  {
   "cell_type": "markdown",
   "id": "05158da7-cffd-491b-a7ab-d750669b792a",
   "metadata": {},
   "source": [
    "### Random Forest"
   ]
  },
  {
   "cell_type": "code",
   "execution_count": 136,
   "id": "fbb5df95-b66f-45c3-aca4-2b34d07d1051",
   "metadata": {},
   "outputs": [
    {
     "name": "stdout",
     "output_type": "stream",
     "text": [
      "Fitting the classifier.....\n",
      "Classifier fitted\n",
      "(16239, 220) (2127, 220)\n",
      "Fitting the standard regressor...\n",
      "Standard Regressor fitted\n",
      "Fitting the extreme regressor...\n",
      "Extrem Regressor fitted\n"
     ]
    },
    {
     "data": {
      "text/plain": [
       "True"
      ]
     },
     "execution_count": 136,
     "metadata": {},
     "output_type": "execute_result"
    }
   ],
   "source": [
    "clf = RandomForestClassifier(n_estimators= 400, min_samples_split=2, min_samples_leaf=1, \n",
    "                             max_features= 'log2', max_depth = 110,\n",
    "                             random_state=42)\n",
    "\n",
    "std_regr = RandomForestRegressor(n_estimators=300, min_samples_split=4, \n",
    "                                 min_samples_leaf=2, max_features='sqrt',\n",
    "                                 max_depth=20, bootstrap = False, \n",
    "                                 random_state = 42)\n",
    "\n",
    "ext_regr = RandomForestRegressor(random_state = 42, \n",
    "                                 n_estimators = 300, \n",
    "                                 min_samples_split=4, min_samples_leaf = 1, \n",
    "                                 max_features='sqrt',\n",
    "                                 max_depth=60,\n",
    "                                 bootstrap=False)\n",
    "\n",
    "model = Model(model_classifier = clf, standard_regressor = std_regr, extreme_regressor=ext_regr) #messo default\n",
    "\n",
    "\n",
    "model.fit(X_train, co_values= y_train['CO'], binary_labels=y_train['labels'])"
   ]
  },
  {
   "cell_type": "code",
   "execution_count": 141,
   "id": "88131d89-a677-40e6-a3c2-3807c6fa8607",
   "metadata": {},
   "outputs": [],
   "source": [
    "y_pred= model.predict_weighted(X_test)"
   ]
  },
  {
   "cell_type": "code",
   "execution_count": 142,
   "id": "d8f8244f-f7f5-4fab-b40d-5501d94915c6",
   "metadata": {},
   "outputs": [
    {
     "data": {
      "text/plain": [
       "1.1309032000592374"
      ]
     },
     "execution_count": 142,
     "metadata": {},
     "output_type": "execute_result"
    }
   ],
   "source": [
    "mse(y_test['CO'].values, y_pred)"
   ]
  },
  {
   "cell_type": "code",
   "execution_count": 143,
   "id": "07266dfa-7cf6-4996-8ea8-c1a64d16ec10",
   "metadata": {},
   "outputs": [
    {
     "name": "stderr",
     "output_type": "stream",
     "text": [
      "/home/edoardo/Desktop/DSL_2021/dsl_venv/lib/python3.8/site-packages/sklearn/base.py:493: FutureWarning: The feature names should match those that were passed during fit. Starting version 1.2, an error will be raised.\n",
      "Feature names must be in the same order as they were in fit.\n",
      "\n",
      "  warnings.warn(message, FutureWarning)\n"
     ]
    },
    {
     "name": "stdout",
     "output_type": "stream",
     "text": [
      "(12245, 220)\n",
      "[ 3.70626198 13.02254623  4.34555383 ... 10.22708379  5.30661514\n",
      "  4.13694146]\n"
     ]
    }
   ],
   "source": [
    "#Submit\n",
    "evaluation = poly.transform(eval_df.loc[:,:'NOX'].drop(columns = ['TEY', 'CDP']))\n",
    "evaluation = pd.DataFrame(evaluation, columns = poly.get_feature_names_out())\n",
    "print(evaluation.shape)\n",
    "pred = model.predict_weighted(evaluation)\n",
    "print(pred)"
   ]
  },
  {
   "cell_type": "code",
   "execution_count": 140,
   "id": "279e539c-7fc8-438b-a019-053a8a911aa6",
   "metadata": {},
   "outputs": [
    {
     "data": {
      "text/plain": [
       "0"
      ]
     },
     "execution_count": 140,
     "metadata": {},
     "output_type": "execute_result"
    }
   ],
   "source": [
    "not_equal = 0\n",
    "for i in range(len(evaluation.columns)):\n",
    "    if evaluation.columns[i] !=  X_test.columns[i]:\n",
    "        not_equal += 1 \n",
    "        \n",
    "not_equal"
   ]
  },
  {
   "cell_type": "code",
   "execution_count": 119,
   "id": "82fa00ac-770d-4a35-959b-4a7a905aa4c9",
   "metadata": {},
   "outputs": [
    {
     "data": {
      "text/plain": [
       "12245"
      ]
     },
     "execution_count": 119,
     "metadata": {},
     "output_type": "execute_result"
    }
   ],
   "source": [
    "len(pred)"
   ]
  },
  {
   "cell_type": "code",
   "execution_count": 144,
   "id": "194a34da-a2af-42f9-a098-fcda2028ef07",
   "metadata": {},
   "outputs": [
    {
     "data": {
      "text/html": [
       "<div>\n",
       "<style scoped>\n",
       "    .dataframe tbody tr th:only-of-type {\n",
       "        vertical-align: middle;\n",
       "    }\n",
       "\n",
       "    .dataframe tbody tr th {\n",
       "        vertical-align: top;\n",
       "    }\n",
       "\n",
       "    .dataframe thead th {\n",
       "        text-align: right;\n",
       "    }\n",
       "</style>\n",
       "<table border=\"1\" class=\"dataframe\">\n",
       "  <thead>\n",
       "    <tr style=\"text-align: right;\">\n",
       "      <th></th>\n",
       "      <th>Id</th>\n",
       "      <th>Predicted</th>\n",
       "    </tr>\n",
       "  </thead>\n",
       "  <tbody>\n",
       "  </tbody>\n",
       "</table>\n",
       "</div>"
      ],
      "text/plain": [
       "Empty DataFrame\n",
       "Columns: [Id, Predicted]\n",
       "Index: []"
      ]
     },
     "execution_count": 144,
     "metadata": {},
     "output_type": "execute_result"
    }
   ],
   "source": [
    "submission_df = pd.DataFrame(columns=['Id','Predicted'])\n",
    "submission_df"
   ]
  },
  {
   "cell_type": "code",
   "execution_count": 145,
   "id": "070311e5-0523-4510-8c7d-edd6b04cce9f",
   "metadata": {},
   "outputs": [
    {
     "data": {
      "text/html": [
       "<div>\n",
       "<style scoped>\n",
       "    .dataframe tbody tr th:only-of-type {\n",
       "        vertical-align: middle;\n",
       "    }\n",
       "\n",
       "    .dataframe tbody tr th {\n",
       "        vertical-align: top;\n",
       "    }\n",
       "\n",
       "    .dataframe thead th {\n",
       "        text-align: right;\n",
       "    }\n",
       "</style>\n",
       "<table border=\"1\" class=\"dataframe\">\n",
       "  <thead>\n",
       "    <tr style=\"text-align: right;\">\n",
       "      <th></th>\n",
       "      <th>Id</th>\n",
       "      <th>Predicted</th>\n",
       "    </tr>\n",
       "  </thead>\n",
       "  <tbody>\n",
       "    <tr>\n",
       "      <th>0</th>\n",
       "      <td>24488</td>\n",
       "      <td>3.706262</td>\n",
       "    </tr>\n",
       "    <tr>\n",
       "      <th>1</th>\n",
       "      <td>24489</td>\n",
       "      <td>13.022546</td>\n",
       "    </tr>\n",
       "    <tr>\n",
       "      <th>2</th>\n",
       "      <td>24490</td>\n",
       "      <td>4.345554</td>\n",
       "    </tr>\n",
       "    <tr>\n",
       "      <th>3</th>\n",
       "      <td>24491</td>\n",
       "      <td>11.968565</td>\n",
       "    </tr>\n",
       "    <tr>\n",
       "      <th>4</th>\n",
       "      <td>24492</td>\n",
       "      <td>9.606434</td>\n",
       "    </tr>\n",
       "  </tbody>\n",
       "</table>\n",
       "</div>"
      ],
      "text/plain": [
       "      Id  Predicted\n",
       "0  24488   3.706262\n",
       "1  24489  13.022546\n",
       "2  24490   4.345554\n",
       "3  24491  11.968565\n",
       "4  24492   9.606434"
      ]
     },
     "execution_count": 145,
     "metadata": {},
     "output_type": "execute_result"
    }
   ],
   "source": [
    "submission_df['Id'] = eval_df.reset_index()['ID']\n",
    "submission_df['Predicted'] = pred\n",
    "submission_df.head()"
   ]
  },
  {
   "cell_type": "code",
   "execution_count": 146,
   "id": "82cf5f6f-882a-4f61-bf4d-93d5f9574ec1",
   "metadata": {},
   "outputs": [],
   "source": [
    "submission_df.to_csv(\"submission/rfclf_rfregr_poly3.csv\", index=False)"
   ]
  },
  {
   "cell_type": "code",
   "execution_count": 26,
   "id": "f2458479-3f34-4277-b222-822e4ab5e0b8",
   "metadata": {},
   "outputs": [
    {
     "data": {
      "text/plain": [
       "[<matplotlib.lines.Line2D at 0x7f653806b7f0>]"
      ]
     },
     "execution_count": 26,
     "metadata": {},
     "output_type": "execute_result"
    },
    {
     "data": {
      "image/png": "[encoded data removed]",
      "text/plain": [
       "<Figure size 432x288 with 1 Axes>"
      ]
     },
     "metadata": {
      "needs_background": "light"
     },
     "output_type": "display_data"
    }
   ],
   "source": [
    "plt.scatter(y_test['CO'].loc[y_test['labels'] == 1].values, y_pred[y_test['labels'] == 1], c = 'red')\n",
    "plt.scatter(y_test['CO'].loc[y_test['labels'] == 0].values, y_pred[y_test['labels'] == 0], c = 'green')\n",
    "plt.plot(np.linspace(0,40), np.linspace(0,40), c = 'orange')"
   ]
  },
  {
   "cell_type": "code",
   "execution_count": 28,
   "id": "1b6d5e48-881e-4361-bf25-fa7c52978045",
   "metadata": {},
   "outputs": [
    {
     "data": {
      "text/plain": [
       "[<matplotlib.lines.Line2D at 0x7f6537fd7cd0>]"
      ]
     },
     "execution_count": 28,
     "metadata": {},
     "output_type": "execute_result"
    },
    {
     "data": {
      "image/png": "[encoded data removed]",
      "text/plain": [
       "<Figure size 432x288 with 1 Axes>"
      ]
     },
     "metadata": {
      "needs_background": "light"
     },
     "output_type": "display_data"
    }
   ],
   "source": [
    "plt.scatter(y_test['CO'].loc[pred_labels == 1].values, y_pred[pred_labels == 1], c = 'red')\n",
    "plt.scatter(y_test['CO'].loc[pred_labels == 0].values, y_pred[pred_labels == 0], c = 'green')\n",
    "plt.plot(np.linspace(0,40), np.linspace(0,40), c = 'orange')"
   ]
  },
  {
   "cell_type": "code",
   "execution_count": 26,
   "id": "594809af-b875-484f-b764-e984ba723df3",
   "metadata": {},
   "outputs": [
    {
     "data": {
      "text/plain": [
       "<matplotlib.legend.Legend at 0x7f23099cc6d0>"
      ]
     },
     "execution_count": 26,
     "metadata": {},
     "output_type": "execute_result"
    },
    {
     "data": {
      "image/png": "[encoded data removed]",
      "text/plain": [
       "<Figure size 432x288 with 1 Axes>"
      ]
     },
     "metadata": {
      "needs_background": "light"
     },
     "output_type": "display_data"
    }
   ],
   "source": [
    "plt.scatter(y_test['CO'].loc[(y_test['labels'] == 1) & (pred_labels == 1)].values, y_pred[(y_test['labels'] == 1) & (pred_labels == 1)], c = 'red', label = 'True extreme')\n",
    "plt.scatter(y_test['CO'].loc[(y_test['labels'] == 1) & (pred_labels == 0)].values, y_pred[(y_test['labels'] == 1) & (pred_labels == 0)], c = 'green', label = 'False standard')\n",
    "plt.scatter(y_test['CO'].loc[(y_test['labels'] == 0) & (pred_labels == 1)].values, y_pred[(y_test['labels'] == 0) & (pred_labels == 1)], c = 'blue', label = 'False extreme')\n",
    "plt.scatter(y_test['CO'].loc[(y_test['labels'] == 0) & (pred_labels == 0)].values, y_pred[(y_test['labels'] == 0) & (pred_labels == 0)], c = 'orange', label = 'True standard')\n",
    "plt.plot(np.linspace(0,40), np.linspace(0,40), c = 'black')\n",
    "plt.legend()"
   ]
  },
  {
   "cell_type": "code",
   "execution_count": 27,
   "id": "7742faeb-1542-4876-9cec-893a460e7323",
   "metadata": {},
   "outputs": [
    {
     "data": {
      "text/plain": [
       "array([[5328,   85],\n",
       "       [ 140,  569]])"
      ]
     },
     "execution_count": 27,
     "metadata": {},
     "output_type": "execute_result"
    }
   ],
   "source": [
    "confusion_matrix(y_test['labels'], pred_labels)"
   ]
  },
  {
   "cell_type": "markdown",
   "id": "f5f47867-ab6f-4611-ab85-62af6db5ff1a",
   "metadata": {},
   "source": [
    "### SVM classifier"
   ]
  },
  {
   "cell_type": "code",
   "execution_count": 68,
   "id": "46715d87-46fe-4668-bc97-cb3c1e9db2eb",
   "metadata": {},
   "outputs": [
    {
     "name": "stdout",
     "output_type": "stream",
     "text": [
      "Classifier fitted\n",
      "(16239, 37) (2127, 37)\n",
      "Standard Regressor fitted\n",
      "Extrem Regressor fitted\n"
     ]
    },
    {
     "data": {
      "text/plain": [
       "True"
      ]
     },
     "execution_count": 68,
     "metadata": {},
     "output_type": "execute_result"
    }
   ],
   "source": [
    "clf = SVC(random_state=42)\n",
    "std_regr = RandomForestRegressor(random_state = 42)\n",
    "ext_regr = RandomForestRegressor(random_state = 42)\n",
    "\n",
    "model = Model(model_classifier = clf, standard_regressor = std_regr, extreme_regressor=ext_regr)\n",
    "model.fit(X_train, co_values= y_train['CO'], binary_labels=y_train['labels'])"
   ]
  },
  {
   "cell_type": "code",
   "execution_count": 69,
   "id": "c9ab3da8-679a-4951-8a1a-6343c19f6f46",
   "metadata": {},
   "outputs": [],
   "source": [
    "y_pred, pred_labels = model.predict(X_test, y_test['labels'])"
   ]
  },
  {
   "cell_type": "code",
   "execution_count": 73,
   "id": "2ce77025-d760-4042-a8df-6bf6bed95b4c",
   "metadata": {},
   "outputs": [
    {
     "data": {
      "text/plain": [
       "1.4861789733783997"
      ]
     },
     "execution_count": 73,
     "metadata": {},
     "output_type": "execute_result"
    }
   ],
   "source": [
    "mse(y_test['CO'].values, y_pred)"
   ]
  },
  {
   "cell_type": "code",
   "execution_count": 74,
   "id": "8550ab53-cdca-48cb-a6e5-b2491af77f66",
   "metadata": {},
   "outputs": [
    {
     "data": {
      "text/plain": [
       "array([[5317,   96],\n",
       "       [ 192,  517]])"
      ]
     },
     "execution_count": 74,
     "metadata": {},
     "output_type": "execute_result"
    }
   ],
   "source": [
    "confusion_matrix(y_test['labels'], pred_labels)"
   ]
  },
  {
   "cell_type": "code",
   "execution_count": 75,
   "id": "1d5aff4c-ae83-45db-8f91-d384679df205",
   "metadata": {},
   "outputs": [
    {
     "data": {
      "text/plain": [
       "<matplotlib.legend.Legend at 0x7f65327c0100>"
      ]
     },
     "execution_count": 75,
     "metadata": {},
     "output_type": "execute_result"
    },
    {
     "data": {
      "image/png": "[encoded data removed]",
      "text/plain": [
       "<Figure size 432x288 with 1 Axes>"
      ]
     },
     "metadata": {
      "needs_background": "light"
     },
     "output_type": "display_data"
    }
   ],
   "source": [
    "plt.scatter(y_test['CO'].loc[(y_test['labels'] == 1) & (pred_labels == 1)].values, y_pred[(y_test['labels'] == 1) & (pred_labels == 1)], c = 'red', label = 'True extreme')\n",
    "plt.scatter(y_test['CO'].loc[(y_test['labels'] == 1) & (pred_labels == 0)].values, y_pred[(y_test['labels'] == 1) & (pred_labels == 0)], c = 'green', label = 'False standard')\n",
    "plt.scatter(y_test['CO'].loc[(y_test['labels'] == 0) & (pred_labels == 1)].values, y_pred[(y_test['labels'] == 0) & (pred_labels == 1)], c = 'blue', label = 'False extreme')\n",
    "plt.scatter(y_test['CO'].loc[(y_test['labels'] == 0) & (pred_labels == 0)].values, y_pred[(y_test['labels'] == 0) & (pred_labels == 0)], c = 'orange', label = 'True standard')\n",
    "plt.plot(np.linspace(0,40), np.linspace(0,40), c = 'black')\n",
    "plt.legend()"
   ]
  },
  {
   "cell_type": "markdown",
   "id": "690228bb-3e87-4634-a7a8-880954b60eaf",
   "metadata": {},
   "source": [
    "### MLP Classifier"
   ]
  },
  {
   "cell_type": "code",
   "execution_count": 134,
   "id": "69377d30-a1b2-475d-93b8-41fd40b2631e",
   "metadata": {},
   "outputs": [
    {
     "name": "stdout",
     "output_type": "stream",
     "text": [
      "Classifier fitted\n",
      "(16239, 11) (2127, 11)\n",
      "Standard Regressor fitted\n",
      "Extrem Regressor fitted\n"
     ]
    },
    {
     "data": {
      "text/plain": [
       "True"
      ]
     },
     "execution_count": 134,
     "metadata": {},
     "output_type": "execute_result"
    }
   ],
   "source": [
    "clf = MLPClassifier(random_state=42, max_iter = 10000)\n",
    "std_regr = RandomForestRegressor(n_estimators=700, min_samples_split=2, min_samples_leaf=2, max_features=None,\n",
    "                                 max_depth=30, bootstrap=True, \n",
    "                                 random_state = 42)\n",
    "\n",
    "ext_regr = RandomForestRegressor(random_state = 42, n_estimators = 500, \n",
    "                                 min_samples_split=2, min_samples_leaf = 1, \n",
    "                                 max_features='sqrt')\n",
    "\n",
    "model = Model(model_classifier = clf, standard_regressor = std_regr, extreme_regressor=ext_regr)\n",
    "model.fit(X_train, co_values= y_train['CO'], binary_labels=y_train['labels'])"
   ]
  },
  {
   "cell_type": "code",
   "execution_count": 135,
   "id": "6466b5e4-04db-4e38-988a-48c18c35d5c0",
   "metadata": {},
   "outputs": [
    {
     "name": "stdout",
     "output_type": "stream",
     "text": [
      "<class 'str'>\n"
     ]
    }
   ],
   "source": [
    "y_pred, pred_labels = model.predict(X_test, y_test['labels'])"
   ]
  },
  {
   "cell_type": "code",
   "execution_count": 136,
   "id": "8fbcde02-66b7-4aee-80b9-b65b6e8eedaa",
   "metadata": {},
   "outputs": [
    {
     "data": {
      "text/plain": [
       "1.3527174273452256"
      ]
     },
     "execution_count": 136,
     "metadata": {},
     "output_type": "execute_result"
    }
   ],
   "source": [
    "mse(y_test['CO'].values, y_pred)"
   ]
  },
  {
   "cell_type": "code",
   "execution_count": 137,
   "id": "a0dcee0f-1914-46de-a6df-93234207ff6e",
   "metadata": {},
   "outputs": [
    {
     "data": {
      "text/plain": [
       "array([[5314,   99],\n",
       "       [ 146,  563]])"
      ]
     },
     "execution_count": 137,
     "metadata": {},
     "output_type": "execute_result"
    }
   ],
   "source": [
    "confusion_matrix(y_test['labels'], pred_labels)"
   ]
  },
  {
   "cell_type": "code",
   "execution_count": 133,
   "id": "871a318d-567a-4fd1-bf23-bc019a1e3a66",
   "metadata": {},
   "outputs": [
    {
     "data": {
      "text/plain": [
       "<matplotlib.legend.Legend at 0x7f652c603070>"
      ]
     },
     "execution_count": 133,
     "metadata": {},
     "output_type": "execute_result"
    },
    {
     "data": {
      "image/png": "[encoded data removed]",
      "text/plain": [
       "<Figure size 432x288 with 1 Axes>"
      ]
     },
     "metadata": {
      "needs_background": "light"
     },
     "output_type": "display_data"
    }
   ],
   "source": [
    "plt.scatter(y_test['CO'].loc[(y_test['labels'] == 1) & (pred_labels == 1)].values, y_pred[(y_test['labels'] == 1) & (pred_labels == 1)], c = 'red', label = 'True extreme')\n",
    "plt.scatter(y_test['CO'].loc[(y_test['labels'] == 1) & (pred_labels == 0)].values, y_pred[(y_test['labels'] == 1) & (pred_labels == 0)], c = 'green', label = 'False standard')\n",
    "plt.scatter(y_test['CO'].loc[(y_test['labels'] == 0) & (pred_labels == 1)].values, y_pred[(y_test['labels'] == 0) & (pred_labels == 1)], c = 'blue', label = 'False extreme')\n",
    "plt.scatter(y_test['CO'].loc[(y_test['labels'] == 0) & (pred_labels == 0)].values, y_pred[(y_test['labels'] == 0) & (pred_labels == 0)], c = 'orange', label = 'True standard')\n",
    "plt.plot(np.linspace(0,40), np.linspace(0,40), c = 'black')\n",
    "plt.legend()"
   ]
  },
  {
   "cell_type": "markdown",
   "id": "d870bb41-6d9e-4bc7-95f9-687f405152be",
   "metadata": {},
   "source": [
    "# Logistic Regression"
   ]
  },
  {
   "cell_type": "code",
   "execution_count": 35,
   "id": "ff07dfee-06ef-4951-8ea7-311f00db945f",
   "metadata": {},
   "outputs": [
    {
     "name": "stdout",
     "output_type": "stream",
     "text": [
      "Fitting the classifier.....\n",
      "Classifier fitted\n",
      "(16239, 220) (2127, 220)\n",
      "Fitting the standard regressor...\n",
      "Standard Regressor fitted\n",
      "Fitting the extreme regressor...\n",
      "Extrem Regressor fitted\n"
     ]
    },
    {
     "data": {
      "text/plain": [
       "True"
      ]
     },
     "execution_count": 35,
     "metadata": {},
     "output_type": "execute_result"
    }
   ],
   "source": [
    "clf = LogisticRegression(max_iter = 10000)\n",
    "std_regr = RandomForestRegressor(n_estimators=300, min_samples_split=4, \n",
    "                                 min_samples_leaf=2, max_features='sqrt',\n",
    "                                 max_depth=20, bootstrap = False, \n",
    "                                 random_state = 42)\n",
    "\n",
    "ext_regr = RandomForestRegressor(random_state = 42, \n",
    "                                 n_estimators = 300, \n",
    "                                 min_samples_split=4, min_samples_leaf = 1, \n",
    "                                 max_features='sqrt',\n",
    "                                 max_depth=60,\n",
    "                                 bootstrap=False)\n",
    "\n",
    "model = Model(model_classifier= clf, standard_regressor = std_regr, extreme_regressor = ext_regr)\n",
    "\n",
    "model.fit(X_train, co_values= y_train['CO'], binary_labels=y_train['labels'])\n",
    "\n"
   ]
  },
  {
   "cell_type": "code",
   "execution_count": 40,
   "id": "c3ffa73b-ed7b-4e20-9b4c-a4da62ed6c34",
   "metadata": {},
   "outputs": [
    {
     "name": "stdout",
     "output_type": "stream",
     "text": [
      "[[4.01812910e-01 5.98187090e-01]\n",
      " [9.99879499e-01 1.20500797e-04]\n",
      " [9.97571392e-01 2.42860817e-03]\n",
      " [9.99702742e-01 2.97257513e-04]\n",
      " [9.95367263e-01 4.63273732e-03]]\n",
      "[4.006483   0.42619516 0.67721833 0.93173534 1.26787393]\n",
      "[ 5.11137628 11.07662767  6.40445956  5.7831285   7.29793322]\n",
      "[[ 4.006483    5.11137628]\n",
      " [ 0.42619516 11.07662767]\n",
      " [ 0.67721833  6.40445956]\n",
      " [ 0.93173534  5.7831285 ]\n",
      " [ 1.26787393  7.29793322]]\n"
     ]
    },
    {
     "data": {
      "text/plain": [
       "1.3371709286470297"
      ]
     },
     "execution_count": 40,
     "metadata": {},
     "output_type": "execute_result"
    }
   ],
   "source": [
    "pred = model.predict_weighted(X_test)\n",
    "mse(y_test['CO'], pred)"
   ]
  },
  {
   "cell_type": "markdown",
   "id": "e994f93b-da1e-46bd-8629-278fea59ed88",
   "metadata": {},
   "source": [
    "# ExtraTree"
   ]
  },
  {
   "cell_type": "code",
   "execution_count": 82,
   "id": "e3cbc480-dd1b-43f7-ac9d-0ebf7c9d98e9",
   "metadata": {},
   "outputs": [
    {
     "name": "stdout",
     "output_type": "stream",
     "text": [
      "Fitting the classifier.....\n",
      "Classifier fitted\n",
      "(16239, 220) (2127, 220)\n",
      "Fitting the standard regressor...\n",
      "Standard Regressor fitted\n",
      "Fitting the extreme regressor...\n",
      "Extrem Regressor fitted\n"
     ]
    },
    {
     "data": {
      "text/plain": [
       "True"
      ]
     },
     "execution_count": 82,
     "metadata": {},
     "output_type": "execute_result"
    }
   ],
   "source": [
    "from sklearn.ensemble import ExtraTreesClassifier, ExtraTreesRegressor\n",
    "clf = ExtraTreesClassifier(random_state = 42)\n",
    "\n",
    "std_regr = ExtraTreesRegressor(random_state = 42)\n",
    "\n",
    "ext_regr = ExtraTreesRegressor(random_state = 42)\n",
    "\n",
    "model = Model(model_classifier= clf, standard_regressor = std_regr, extreme_regressor = ext_regr)\n",
    "\n",
    "model.fit(X_train, co_values= y_train['CO'], binary_labels=y_train['labels'])"
   ]
  },
  {
   "cell_type": "code",
   "execution_count": 83,
   "id": "be591b90-8eb5-478e-b918-42c85270d829",
   "metadata": {},
   "outputs": [
    {
     "data": {
      "text/plain": [
       "1.160703401031832"
      ]
     },
     "execution_count": 83,
     "metadata": {},
     "output_type": "execute_result"
    }
   ],
   "source": [
    "pred = model.predict_weighted(X_test)\n",
    "mse(y_test['CO'], pred)"
   ]
  },
  {
   "cell_type": "markdown",
   "id": "d772dd8e-fc2b-4297-bed1-1265ac4f9b7a",
   "metadata": {},
   "source": [
    "# Ensemble method"
   ]
  },
  {
   "cell_type": "code",
   "execution_count": 27,
   "id": "71d31fc8-232b-45f3-a025-fa00f8cdc4ae",
   "metadata": {},
   "outputs": [
    {
     "data": {
      "text/plain": [
       "3.847515793931284e-16"
      ]
     },
     "execution_count": 27,
     "metadata": {},
     "output_type": "execute_result"
    }
   ],
   "source": [
    "dev_df['AT'].mean()"
   ]
  },
  {
   "cell_type": "code",
   "execution_count": 16,
   "id": "3018b1bb-418a-44d2-b189-1f6b0dcdc7ee",
   "metadata": {},
   "outputs": [
    {
     "data": {
      "text/plain": [
       "YEAR    3.056897\n",
       "AT      0.055846\n",
       "AP     -0.006081\n",
       "AH     -0.053063\n",
       "AFDP    0.138883\n",
       "GTEP    0.165964\n",
       "TIT     0.222274\n",
       "TAT    -0.011829\n",
       "TEY     0.180834\n",
       "CDP     0.174814\n",
       "NOX    -0.113742\n",
       "CO      1.777638\n",
       "Name: 0, dtype: float64"
      ]
     },
     "execution_count": 16,
     "metadata": {},
     "output_type": "execute_result"
    }
   ],
   "source": [
    "Xy = dev_df.loc[:,:'CO']\n",
    "Xy['labels'] = Xy['CO'].apply(lambda x : 0 if x <=4.5 else 1)\n",
    "\n",
    "ix = pd.IndexSlice\n",
    "\n",
    "grouped = Xy.groupby('labels').describe().loc[slice(None),ix[:,['mean','std']]]\n",
    "grouped.loc[0].loc[ix[:,'mean']]"
   ]
  },
  {
   "cell_type": "code",
   "execution_count": 144,
   "id": "42187b05-8ee2-4f08-a116-df338e1612d4",
   "metadata": {},
   "outputs": [],
   "source": [
    "class Classifier():\n",
    "    \n",
    "    def __init__(self, n_features = 3, threshold = 0.5):\n",
    "        self.n_features = n_features\n",
    "        self.threshold = threshold\n",
    "        self.ix = pd.IndexSlice\n",
    "        \n",
    "        \n",
    "    def fit(self, X):\n",
    "        self.features = list(X.loc[:,:'NOX'].sample(n=self.n_features, axis = 1).columns)\n",
    "        self.mean_std = X.groupby(by= 'labels').describe().loc[slice(None),self.ix[self.features,['mean','std']]]\n",
    "        \n",
    "    def predict(self, X):\n",
    "        result = X[self.features].copy()\n",
    "        for col in self.features:\n",
    "            result[col] = result[col].apply(lambda x : labeling(x, self.mean_std[col]))\n",
    "        result = (result.sum(axis = 1)/len(result.loc[:'NOX'].columns)).apply(lambda x : 0 if x<self.threshold else 1)\n",
    "        return result.values\n",
    "        \n",
    "    def labeling(self, x, mean_std_col):\n",
    "        mean,std = mean_std_col.loc[1].values\n",
    "        label = 0\n",
    "        lower = mean-std\n",
    "        upper = mean+std\n",
    "        if lower <= x <= upper:\n",
    "            label = 1\n",
    "        return label\n",
    "    \n",
    "\n",
    "class EnsembleClassifier():\n",
    "    \n",
    "    def __init__(self, n_estimators = 100, n_features_per_estimator = 3, threshold = 0.5):\n",
    "        self.n_estimators = n_estimators\n",
    "        self.n_features_per_estimator = n_features_per_estimator\n",
    "        self.threshold = threshold\n",
    "        self.estimators = [Classifier(n_features = n_features_per_estimator ,threshold = threshold) for i in range(n_estimators)]\n",
    "        \n",
    "    def fit(self, X):\n",
    "        for est in self.estimators:\n",
    "            est.fit(X)\n",
    "        \n",
    "    def predict(self, X):\n",
    "        \n",
    "        predictions = np.array([est.predict(X) for est in self.estimators])\n",
    "        print(predictions)\n",
    "        predictions = (predictions.sum(axis = 0) / self.n_estimators)\n",
    "        print(predictions)\n",
    "        predictions = np.array(list(map(lambda x : 0 if x<self.threshold else 1, predictions)))\n",
    "        \n",
    "        return predictions\n",
    "    \n",
    "        "
   ]
  },
  {
   "cell_type": "code",
   "execution_count": 126,
   "id": "a1f663d8-0462-4a41-a76b-83b6445f745d",
   "metadata": {},
   "outputs": [
    {
     "name": "stdout",
     "output_type": "stream",
     "text": [
      "[0 1 1 1 0 0 1 0 1 1 0 0 1 1 0 0 1 0 0 0 0]\n"
     ]
    }
   ],
   "source": [
    "clf = Classifier()\n",
    "clf.fit(Xy)\n",
    "\n",
    "pred = clf.predict(Xy.loc[:20,:'NOX'])\n",
    "\n",
    "print(np.array(pred))    "
   ]
  },
  {
   "cell_type": "code",
   "execution_count": 150,
   "id": "4f36eac3-754f-4cd7-a833-8b35f3666dd4",
   "metadata": {},
   "outputs": [
    {
     "name": "stdout",
     "output_type": "stream",
     "text": [
      "[[0 1 0 1 0 0 1 0 1 1 1 0 1 1 1 0 1 0 0 0 0]\n",
      " [1 1 0 1 0 0 0 0 0 0 1 0 0 0 0 0 0 0 0 0 0]\n",
      " [1 0 0 1 0 0 0 0 0 0 1 0 1 1 0 1 1 1 0 0 1]\n",
      " [0 1 1 1 0 0 1 0 1 1 0 1 1 1 1 1 1 1 0 1 1]\n",
      " [1 1 1 1 0 0 1 0 1 1 1 0 1 1 1 0 1 0 0 0 0]\n",
      " [1 1 0 1 1 0 1 0 0 0 1 0 1 1 1 1 1 1 1 0 1]\n",
      " [1 1 1 1 1 0 1 0 1 1 1 0 1 1 1 1 1 1 1 0 1]\n",
      " [1 1 1 1 1 1 1 0 0 1 0 1 1 1 1 1 1 1 1 0 1]\n",
      " [0 1 1 1 0 0 1 0 1 1 1 0 1 1 1 0 1 0 0 0 0]\n",
      " [0 1 0 1 0 0 0 0 0 0 1 0 0 0 0 0 0 0 0 0 0]]\n",
      "[0.6 0.9 0.5 1.  0.3 0.1 0.7 0.  0.5 0.6 0.8 0.2 0.8 0.8 0.7 0.5 0.8 0.5\n",
      " 0.3 0.1 0.5]\n"
     ]
    },
    {
     "data": {
      "text/plain": [
       "array([1, 1, 1, 1, 0, 0, 1, 0, 1, 1, 1, 0, 1, 1, 1, 1, 1, 1, 0, 0, 1])"
      ]
     },
     "execution_count": 150,
     "metadata": {},
     "output_type": "execute_result"
    }
   ],
   "source": [
    "en_clf = EnsembleClassifier(n_estimators = 10, n_features_per_estimator=4)\n",
    "en_clf.fit(Xy)\n",
    "pred = en_clf.predict(Xy.loc[:20,:'NOX'])\n",
    "pred"
   ]
  }
 ],
 "metadata": {
  "kernelspec": {
   "display_name": "Python 3 (ipykernel)",
   "language": "python",
   "name": "python3"
  },
  "language_info": {
   "codemirror_mode": {
    "name": "ipython",
    "version": 3
   },
   "file_extension": ".py",
   "mimetype": "text/x-python",
   "name": "python",
   "nbconvert_exporter": "python",
   "pygments_lexer": "ipython3",
   "version": "3.8.10"
  }
 },
 "nbformat": 4,
 "nbformat_minor": 5
}
